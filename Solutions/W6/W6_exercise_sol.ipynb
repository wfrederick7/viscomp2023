{
 "cells": [
  {
   "cell_type": "markdown",
   "metadata": {
    "collapsed": true
   },
   "source": [
    "# Week 6: Optical Flow\n",
    "\n",
    "**The exercise of this week is about Optical Flow. First load the following libraries that will be necessary.**"
   ]
  },
  {
   "cell_type": "markdown",
   "metadata": {},
   "source": [
    "**Additional material for the exericse**\n",
    "\n",
    "For additional material and question answering, you can refere to [this pdf](Tutorial_W6_sol.pdf)."
   ]
  },
  {
   "cell_type": "code",
   "execution_count": null,
   "metadata": {},
   "outputs": [],
   "source": [
    "!pip3 install --user scipy\n",
    "!pip3 install --user scikit-image\n",
    "!pip3 install --user matplotlib"
   ]
  },
  {
   "cell_type": "code",
   "execution_count": null,
   "metadata": {},
   "outputs": [],
   "source": [
    "%matplotlib inline\n",
    "from skimage.io import imread\n",
    "from scipy import signal, ndimage\n",
    "import numpy as np\n",
    "import time\n",
    "import scipy.io as sio\n",
    "from matplotlib.pyplot import imshow, show, figure\n",
    "import skimage.transform as tf\n",
    "import IPython\n",
    "import flow_vis"
   ]
  },
  {
   "cell_type": "markdown",
   "metadata": {},
   "source": [
    "**We will compute the optical flow between two images. Load the two images `frame1.png` and `frame2.png`.**"
   ]
  },
  {
   "cell_type": "code",
   "execution_count": null,
   "metadata": {},
   "outputs": [],
   "source": [
    "image1 = imread('frame1.png',as_gray=True)\n",
    "image2 = imread('frame2.png',as_gray=True)\n",
    "figure()\n",
    "imshow(image1, cmap='gray')\n",
    "figure()\n",
    "imshow(image2, cmap='gray')\n",
    "\n",
    "flow_gt = sio.loadmat('flow_gt.mat')['groundTruth']\n",
    "flow_image_gt = flow_vis.flow_to_color(flow_gt)\n",
    "figure()\n",
    "imshow(flow_image_gt, cmap='gray')"
   ]
  },
  {
   "cell_type": "markdown",
   "metadata": {},
   "source": [
    "## Part A: Lukas-Knade Algorithm\n",
    "We estimate the optical flow $u,v$ by solving the lineary system \n",
    "$$I_xu+I_yv+I_t=0$$\n",
    "\n",
    "The spatial partial $I_x$ and $I_y$ derivatives are computed by convolving the patches with a 1D-kernel $[-1,1]$ and taking the average between the two patches (over images $I_1$, $I_2$). In order to make the estimates more robust, we furthermore smooth the derivatives with a 1D-kernel $\\frac{1}{2}[1,1]$. These steps can be combined in a single convolution. For example the partial\n",
    "derivative in x-direction between patches $I_1$ and $I_2$ is given by \n",
    "\n",
    "$$I_x = (I_1+I_2)*\\frac{1}{4}\\begin{bmatrix}-1 & 1\\\\ -1 & 1\\end{bmatrix}$$\n",
    "\n",
    "where $∗$ denotes the 2D convolution operator. Analogously, the partial temporal derivative is given by \n",
    "\n",
    "$$I_t = (I_2-I_1)*\\frac{1}{4}\\begin{bmatrix}1 & 1\\\\ 1 & 1\\end{bmatrix}.$$\n",
    "\n",
    "**Complete the missing lines to define the convolution kernels and to compute the partial derivatives. You can use `signal.convolve2d(x, kernel, mode='same')` for convolution.** \n",
    "\n",
    "\n",
    "After computing the partial derivatives, we can estimate the optical flow for each patch by solving the following linear system\n",
    "$$A^TAx=A^Tb$$\n",
    "with\n",
    "$$A = \\begin{bmatrix}p_x & p_y\\end{bmatrix} \\text{and } b = -p_t$$\n",
    "**Complete the missing lines to define and solve the linear system. You can use `np.linalg.solve` to solve the linear system.** \n"
   ]
  },
  {
   "cell_type": "code",
   "execution_count": null,
   "metadata": {},
   "outputs": [],
   "source": [
    "def lukas_kanade(I1, I2, window_size=5):\n",
    "    \n",
    "    w = window_size//2 # window_size is odd, all the pixels with offset in between [-w, w] are inside the window\n",
    "    I1 = I1/255.  # normalize pixels\n",
    "    I2 = I2/255.   # normalize pixels\n",
    "    \n",
    "    # Define convolution kernels.\n",
    "    kernel_x = np.array([[-1.,  1.], [-1., 1.]]) / 4.\n",
    "    kernel_y = np.array([[-1., -1.], [ 1., 1.]]) / 4.\n",
    "    kernel_t = np.array([[1., 1.], [1., 1.]]) / 4.\n",
    "    \n",
    "    # Compute partial derivatives.\n",
    "    Ix = signal.convolve2d((I1 + I2), kernel_x, mode='same') \n",
    "    Iy = signal.convolve2d((I1 + I2), kernel_y, mode='same') \n",
    "    It = signal.convolve2d((I2 - I1), kernel_t, mode='same') \n",
    "    \n",
    "    u = np.zeros(I1.shape)\n",
    "    v = np.zeros(I1.shape)\n",
    "    for i in range(w, I1.shape[0] - w):\n",
    "        for j in range(w, I1.shape[1] - w):\n",
    "\n",
    "            # obtain partial derivatives for current patch\n",
    "            px = Ix[i - w:i + w + 1, j - w:j + w + 1].flatten()\n",
    "            py = Iy[i - w:i + w + 1, j - w:j + w + 1].flatten()\n",
    "            pt = It[i - w:i + w + 1, j - w:j + w + 1].flatten()\n",
    "            \n",
    "            # Compute optical flow.\n",
    "            b = -pt\n",
    "            A = np.stack([px, py]).T\n",
    "            nu = np.linalg.solve(A.T @ A, A.T @ b)\n",
    "            \n",
    "            u[i, j] = nu[0]\n",
    "            v[i, j] = nu[1]\n",
    "\n",
    "    return u,v"
   ]
  },
  {
   "cell_type": "markdown",
   "metadata": {},
   "source": [
    "**Now let's test the function.** The first plot shows the ground-truth and the second shows the estimation. The excution takes some time (~8s on laptops).\n",
    "\n",
    "**Q: What is the influence of window size and why?**\n",
    "\n",
    "\n",
    "The larger the window size, the coarser the optical flow. Fine movement is lost in favor of bigger movement."
   ]
  },
  {
   "cell_type": "code",
   "execution_count": null,
   "metadata": {},
   "outputs": [],
   "source": [
    "t = time.time()\n",
    "\n",
    "u, v = lukas_kanade(image1, image2, window_size=5)\n",
    "\n",
    "figure()\n",
    "imshow(flow_image_gt, cmap='gray')\n",
    "\n",
    "figure()\n",
    "flow_image = flow_vis.flow_to_color(np.stack([u,v],axis=-1))\n",
    "imshow(flow_image,cmap='gray')\n",
    "\n",
    "print('Elaspsed time: ', time.time()-t)"
   ]
  },
  {
   "cell_type": "markdown",
   "metadata": {},
   "source": [
    "## Part B: Lukas-Kanade with Pyramid\n",
    "\n",
    "In previous part, the optical flow of each pixel is computed only based on a small neighbouring region. Therefore the algorithm cannot deal with large displacement. As a solution, we can apply the algorithm iteratively from coarse to fine.\n",
    "\n",
    "We construct a image pyramid, apply the optical flow algorithm at each level starting from the coarsest resolution and propagate the computed flow to the next level. The propagation is done by first warping image1 with the estimated flow and then estimate the residual flow between the image2 and warped image1. You can use `ndimage.map_coordinates(image, [new_ys, new_xs])` for image warping.\n",
    "\n",
    "**Complete the following lines for image warping and optical flow estimation & updating.**"
   ]
  },
  {
   "cell_type": "code",
   "execution_count": null,
   "metadata": {
    "scrolled": false
   },
   "outputs": [],
   "source": [
    "num_layers = 3\n",
    "downscale = 2\n",
    "\n",
    "# Construct image pyramids\n",
    "pyramids1 = tf.pyramid_gaussian(image1, max_layer=num_layers, downscale=downscale, sigma=1, channel_axis=None)\n",
    "pyramids2 = tf.pyramid_gaussian(image2, max_layer=num_layers, downscale=downscale, sigma=1, channel_axis=None)\n",
    "\n",
    "u = np.zeros(image1.shape)\n",
    "v = np.zeros(image1.shape)\n",
    "\n",
    "for im1,im2 in zip(reversed(list(pyramids1)),reversed(list(pyramids2))):\n",
    "\n",
    "    h,w = im1.shape\n",
    "\n",
    "    u = h/u.shape[0] * tf.resize(u, (h,w), order=1)\n",
    "    v = h/u.shape[0] * tf.resize(v, (h,w), order=1)\n",
    "\n",
    "    # Warp image.\n",
    "    yy, xx = np.mgrid[:h, :w]\n",
    "    rows, cols = yy + v, xx + u\n",
    "    im1_warp = ndimage.map_coordinates(im1, [rows, cols])\n",
    "\n",
    "    # Update optical flow.\n",
    "    du, dv = lukas_kanade(im1_warp, im2, window_size=5)\n",
    "#     du, dv = lukas_kanade(im2, im1_warp, window_size=5)\n",
    "    u, v = u + du, v + dv\n",
    "\n",
    "    flow_image = flow_vis.flow_to_color(np.stack([u,v],axis=-1))\n",
    "    figure()\n",
    "    imshow(flow_image,cmap='gray')"
   ]
  },
  {
   "cell_type": "markdown",
   "metadata": {},
   "source": [
    "## Part C: Frame Extrapolation with Optical Flow\n",
    "\n",
    "Optical flow can be used for frame extrapolation. Given the two frames, we can predict the next few frames (assuming constant pixel motions). This can be done by scaling the optical flow and warping the image accordingly. \n",
    "\n",
    "**Complete the following lines for frame extrapolation.**\n",
    "\n",
    "**Q: what do you need to change to make it a frame interpolation algorithm?**\n",
    "\n",
    "A: change `i` from $[1,10]$ to $[0, 1]$"
   ]
  },
  {
   "cell_type": "code",
   "execution_count": null,
   "metadata": {},
   "outputs": [],
   "source": [
    "h,w = image1.shape[:2]\n",
    "yy, xx = np.mgrid[:h, :w]\n",
    "flow = np.stack([u,v],axis=-1)\n",
    "for i in range(1,10):\n",
    "    \n",
    "    # Extrapolate the next 10 frames, using the flow between img1 and img2 as one step.\n",
    "    rows = yy + flow[:,:,1]*i\n",
    "    cols = xx + flow[:,:,0]*i\n",
    "\n",
    "    image1_warp = ndimage.map_coordinates(image1, [rows, cols])\n",
    "    imshow(image1_warp,cmap='gray')\n",
    "    \n",
    "    IPython.display.clear_output(True)\n",
    "    show()"
   ]
  },
  {
   "cell_type": "markdown",
   "metadata": {},
   "source": [
    "# Part D: Exam question"
   ]
  },
  {
   "cell_type": "markdown",
   "metadata": {},
   "source": [
    "![alt](Q1.png)\n",
    "![alt](A1.png)\n",
    "![alt](Q2.png)\n",
    "![alt](A2.png)"
   ]
  },
  {
   "cell_type": "markdown",
   "metadata": {},
   "source": [
    "![alt](Q3.png)\n",
    "![alt](A3.png)"
   ]
  }
 ],
 "metadata": {
  "kernelspec": {
   "display_name": "Python 3 (ipykernel)",
   "language": "python",
   "name": "python3"
  },
  "language_info": {
   "codemirror_mode": {
    "name": "ipython",
    "version": 3
   },
   "file_extension": ".py",
   "mimetype": "text/x-python",
   "name": "python",
   "nbconvert_exporter": "python",
   "pygments_lexer": "ipython3",
   "version": "3.10.12"
  }
 },
 "nbformat": 4,
 "nbformat_minor": 2
}
