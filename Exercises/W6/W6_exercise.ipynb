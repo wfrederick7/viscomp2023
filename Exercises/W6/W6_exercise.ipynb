{
 "cells": [
  {
   "cell_type": "code",
   "execution_count": null,
   "source": [
    "# quickstart COLAB\n",
    "from pathlib import Path\n",
    "if Path.cwd().name != 'W6':\n",
    "  !git clone --quiet https://github.com/tavisualcomputing/viscomp2023/\n",
    "  %cd viscomp2023/Exercises/W6"
   ],
   "outputs": [],
   "metadata": {}
  },
  {
   "cell_type": "markdown",
   "source": [
    "# Week 6: Optical Flow\n",
    "\n",
    "**The exercise of this week is about Optical Flow. First load the following libraries that will be necessary.**"
   ],
   "metadata": {
    "collapsed": true
   }
  },
  {
   "cell_type": "code",
   "execution_count": null,
   "source": [
    "!pip3 install --user scipy\n",
    "!pip3 install --user scikit-image\n",
    "!pip3 install --user matplotlib"
   ],
   "outputs": [],
   "metadata": {}
  },
  {
   "cell_type": "code",
   "execution_count": 1,
   "source": [
    "%matplotlib inline\n",
    "from skimage.io import imread\n",
    "from scipy import signal, ndimage\n",
    "import numpy as np\n",
    "import time\n",
    "import scipy.io as sio\n",
    "from matplotlib.pyplot import imshow, show, figure\n",
    "import skimage.transform as tf\n",
    "import IPython\n",
    "import flow_vis"
   ],
   "outputs": [],
   "metadata": {}
  },
  {
   "cell_type": "markdown",
   "source": [
    "**We will compute the optical flow between two images. Load the two images `frame1.png` and `frame2.png`.**"
   ],
   "metadata": {}
  },
  {
   "cell_type": "code",
   "execution_count": null,
   "source": [
    "image1 = imread('frame1.png',as_gray=True)\n",
    "image2 = imread('frame2.png',as_gray=True)\n",
    "figure()\n",
    "imshow(image1, cmap='gray')\n",
    "figure()\n",
    "imshow(image2, cmap='gray')\n",
    "\n",
    "flow_gt = sio.loadmat('flow_gt.mat')['groundTruth']\n",
    "flow_image_gt = flow_vis.flow_to_color(flow_gt)\n",
    "figure()\n",
    "imshow(flow_image_gt, cmap='gray')"
   ],
   "outputs": [],
   "metadata": {}
  },
  {
   "cell_type": "markdown",
   "source": [
    "## Part A: Lukas-Knade Algorithm\n",
    "We estimate the optical flow $u,v$ by solving the lineary system \n",
    "$$I_xu+I_yv+I_t=0$$\n",
    "\n",
    "The spatial partial $I_x$ and $I_y$ derivatives are computed by convolving the patches with a 1D-kernel $[-1,1]$ and taking the average between the two patches (over images $I_1$, $I_2$). In order to make the estimates more robust, we furthermore smooth the derivatives with a 1D-kernel $\\frac{1}{2}[1,1]$. These steps can be combined in a single convolution. For example the partial\n",
    "derivative in x-direction between patches $I_1$ and $I_2$ is given by \n",
    "\n",
    "$$I_x = (I_1+I_2)*\\frac{1}{4}\\begin{bmatrix}-1 & 1\\\\ -1 & 1\\end{bmatrix}$$\n",
    "\n",
    "where $∗$ denotes the 2D convolution operator. Analogously, the partial temporal derivative is given by \n",
    "\n",
    "$$I_t = (I_2-I_1)*\\frac{1}{4}\\begin{bmatrix}1 & 1\\\\ 1 & 1\\end{bmatrix}.$$\n",
    "\n",
    "**Complete the missing lines to define the convolution kernels and to compute the partial derivatives. You can use `signal.convolve2d(x, kernel, mode='same')` for convolution.** \n",
    "\n",
    "\n",
    "After computing the partial derivatives, we can estimate the optical flow for each patch by solving the following linear system\n",
    "$$A^TAx=A^Tb$$\n",
    "with\n",
    "$$A = \\begin{bmatrix}p_x & p_y\\end{bmatrix} \\text{and } b = -p_t$$\n",
    "**Complete the missing lines to define and solve the linear system. You can use `np.linalg.solve` to solve the linear system.** \n"
   ],
   "metadata": {}
  },
  {
   "cell_type": "code",
   "execution_count": 4,
   "source": [
    "def lukas_kanade(I1, I2, window_size=5):\n",
    "    \n",
    "    w = window_size//2 # window_size is odd, all the pixels with offset in between [-w, w] are inside the window\n",
    "    I1 = I1/255.  # normalize pixels\n",
    "    I2 = I2/255.   # normalize pixels\n",
    "    \n",
    "    # Your codes here. Define convolution kernels.\n",
    "    kernel_x = \n",
    "    kernel_y = \n",
    "    kernel_t = \n",
    "    \n",
    "    # Your codes here. Compute partial derivatives.\n",
    "    Ix = \n",
    "    Iy = \n",
    "    It = \n",
    "    \n",
    "    u = np.zeros(I1.shape)\n",
    "    v = np.zeros(I1.shape)\n",
    "    for i in range(w, I1.shape[0] - w):\n",
    "        for j in range(w, I1.shape[1] - w):\n",
    "\n",
    "            # obtain partial derivatives for current patch\n",
    "            px = Ix[i - w:i + w + 1, j - w:j + w + 1].flatten()\n",
    "            py = Iy[i - w:i + w + 1, j - w:j + w + 1].flatten()\n",
    "            pt = It[i - w:i + w + 1, j - w:j + w + 1].flatten()\n",
    "            \n",
    "            # Your codes here. Compute optical flow.\n",
    "            nu = \n",
    "            \n",
    "            u[i, j] = nu[0]\n",
    "            v[i, j] = nu[1]\n",
    "\n",
    "    return u,v"
   ],
   "outputs": [],
   "metadata": {}
  },
  {
   "cell_type": "markdown",
   "source": [
    "**Now let's test the function.** The first plot shows the ground-truth and the second shows the estimation. The excution takes some time (a few seconds on laptops).\n",
    "\n",
    "**Q: What is the influence of window size and why?**"
   ],
   "metadata": {}
  },
  {
   "cell_type": "code",
   "execution_count": null,
   "source": [
    "t = time.time()\n",
    "\n",
    "u, v = lukas_kanade(image1, image2, window_size=5)\n",
    "\n",
    "figure()\n",
    "imshow(flow_image_gt, cmap='gray')\n",
    "\n",
    "figure()\n",
    "flow_image = flow_vis.flow_to_color(np.stack([u,v],axis=-1))\n",
    "imshow(flow_image,cmap='gray')\n",
    "\n",
    "print('Elaspsed time: ', time.time()-t)"
   ],
   "outputs": [],
   "metadata": {}
  },
  {
   "cell_type": "markdown",
   "source": [
    "## Part B: Lukas-Kanade with Pyramid\n",
    "\n",
    "In previous part, the optical flow of each pixel is computed only based on a small neighbouring region. Therefore the algorithm cannot deal with large displacement. As a solution, we can apply the algorithm iteratively from coarse to fine.\n",
    "\n",
    "We construct a image pyramid, apply the optical flow algorithm at each level starting from the coarsest resolution and propagate the computed flow to the next level. The propagation is done by first warping image1 with the estimated flow and then estimate the residual flow between the image2 and warped image1. You can use `ndimage.map_coordinates(image, [new_ys, new_xs])` for image warping.\n",
    "\n",
    "**Complete the following lines for image warping and optical flow estimation & updating.**"
   ],
   "metadata": {}
  },
  {
   "cell_type": "code",
   "execution_count": null,
   "source": [
    "num_layers = 1\n",
    "downscale = 2\n",
    "\n",
    "# Construct image pyramids\n",
    "pyramids1 = tf.pyramid_gaussian(image1, max_layer=num_layers, downscale=downscale, sigma=1, channel_axis=None)\n",
    "pyramids2 = tf.pyramid_gaussian(image2, max_layer=num_layers, downscale=downscale, sigma=1, channel_axis=None)\n",
    "\n",
    "u = np.zeros(image1.shape)\n",
    "v = np.zeros(image1.shape)\n",
    "\n",
    "for im1,im2 in zip(reversed(list(pyramids1)),reversed(list(pyramids2))):\n",
    "\n",
    "    h,w = im1.shape\n",
    "\n",
    "    u = h/u.shape[0] * tf.resize(u, (h,w), order=1)\n",
    "    v = h/u.shape[0] * tf.resize(v, (h,w), order=1)\n",
    "\n",
    "    # Your codes here. Warp image.\n",
    "    im1_warp = \n",
    "\n",
    "    # Your codes here. Update optical flow.\n",
    "    u,v = \n",
    "\n",
    "    flow_image = flow_vis.flow_to_color(np.stack([u,v],axis=-1))\n",
    "    figure()\n",
    "    imshow(flow_image,cmap='gray')"
   ],
   "outputs": [],
   "metadata": {}
  },
  {
   "cell_type": "markdown",
   "source": [
    "## Part C: Frame Extrapolation with Optical Flow\n",
    "\n",
    "Optical flow can be used for frame extrapolation. Given the two frames, we can predict the next few frames (assuming constant pixel motions). This can be done by scaling the optical flow and warping the image accordingly. \n",
    "\n",
    "**Complete the following lines for frame extrapolation.**\n",
    "\n",
    "**Q: what do you need to change to make it a frame interpolation algorithm?**"
   ],
   "metadata": {}
  },
  {
   "cell_type": "code",
   "execution_count": null,
   "source": [
    "for i in range(1,10):\n",
    "     \n",
    "    # Your codes here. Extrapolate the next 10 frames, using the flow between img1 and img2 as one step.\n",
    "    image1_warp = \n",
    "    \n",
    "    imshow(image1_warp,cmap='gray')\n",
    "    \n",
    "    IPython.display.clear_output(True)\n",
    "    \n",
    "    show()"
   ],
   "outputs": [],
   "metadata": {}
  },
  {
   "cell_type": "markdown",
   "source": [
    "# Part D: Exam question"
   ],
   "metadata": {}
  },
  {
   "cell_type": "markdown",
   "source": [
    "![alt](Q1.png)\n",
    "![alt](Q2.png)"
   ],
   "metadata": {}
  },
  {
   "cell_type": "markdown",
   "source": [
    "![alt](Q3.png)"
   ],
   "metadata": {}
  },
  {
   "cell_type": "markdown",
   "source": [
    "# Contact\n",
    "\n",
    "For questions, free free to post them in the [Moodle Forum](https://moodle-app2.let.ethz.ch/course/view.php?id=21488), or email Linfei Pan (linfei.pan@inf.ethz.ch).\n",
    "\n",
    "Notebook credits: Rémi Pautrat."
   ],
   "metadata": {}
  }
 ],
 "metadata": {
  "kernelspec": {
   "display_name": "Python 3 (ipykernel)",
   "language": "python",
   "name": "python3"
  },
  "language_info": {
   "codemirror_mode": {
    "name": "ipython",
    "version": 3
   },
   "file_extension": ".py",
   "mimetype": "text/x-python",
   "name": "python",
   "nbconvert_exporter": "python",
   "pygments_lexer": "ipython3",
   "version": "3.10.12"
  }
 },
 "nbformat": 4,
 "nbformat_minor": 2
}